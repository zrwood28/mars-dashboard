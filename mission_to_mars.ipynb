{
 "cells": [
  {
   "cell_type": "code",
   "execution_count": 116,
   "id": "892bc259",
   "metadata": {},
   "outputs": [],
   "source": [
    "from splinter import Browser\n",
    "from bs4 import BeautifulSoup as bs\n",
    "from webdriver_manager.chrome import ChromeDriverManager\n",
    "import pandas as pd\n",
    "import time"
   ]
  },
  {
   "cell_type": "code",
   "execution_count": 117,
   "id": "8d3a1dbf",
   "metadata": {},
   "outputs": [],
   "source": [
    "executable_path = {\"executable_path\": ChromeDriverManager().install()}\n",
    "browser = Browser(\"chrome\", **executable_path, headless = False)"
   ]
  },
  {
   "cell_type": "markdown",
   "id": "77aa986a",
   "metadata": {},
   "source": [
    "#### Mars News"
   ]
  },
  {
   "cell_type": "code",
   "execution_count": 118,
   "id": "404c19e8",
   "metadata": {},
   "outputs": [],
   "source": [
    "url = \"https://redplanetscience.com/\""
   ]
  },
  {
   "cell_type": "code",
   "execution_count": 119,
   "id": "c4ba89c1",
   "metadata": {},
   "outputs": [],
   "source": [
    "browser.visit(url)"
   ]
  },
  {
   "cell_type": "code",
   "execution_count": 120,
   "id": "c0cda4da",
   "metadata": {},
   "outputs": [],
   "source": [
    "html = browser.html"
   ]
  },
  {
   "cell_type": "code",
   "execution_count": 121,
   "id": "7a1ee803",
   "metadata": {},
   "outputs": [],
   "source": [
    "soup = bs(html, \"html.parser\")"
   ]
  },
  {
   "cell_type": "code",
   "execution_count": 122,
   "id": "1ba93eb7",
   "metadata": {},
   "outputs": [],
   "source": [
    "#Mars News from NASA site\n",
    "news_title = soup.find(\"div\", class_ = \"content_title\").get_text()\n",
    "\n",
    "news_p = soup.find(\"div\", class_ = \"article_teaser_body\").get_text()"
   ]
  },
  {
   "cell_type": "markdown",
   "id": "3fc06d4c",
   "metadata": {},
   "source": [
    "#### Mars Image"
   ]
  },
  {
   "cell_type": "code",
   "execution_count": 123,
   "id": "e6f380ae",
   "metadata": {},
   "outputs": [],
   "source": [
    "url = \"https://spaceimages-mars.com/\""
   ]
  },
  {
   "cell_type": "code",
   "execution_count": 124,
   "id": "78cf5f00",
   "metadata": {},
   "outputs": [],
   "source": [
    "browser.visit(url)"
   ]
  },
  {
   "cell_type": "code",
   "execution_count": 125,
   "id": "6aab3439",
   "metadata": {},
   "outputs": [],
   "source": [
    "html = browser.html"
   ]
  },
  {
   "cell_type": "code",
   "execution_count": 126,
   "id": "548280b7",
   "metadata": {},
   "outputs": [],
   "source": [
    "soup = bs(html, \"html.parser\")"
   ]
  },
  {
   "cell_type": "code",
   "execution_count": 127,
   "id": "cebd562d",
   "metadata": {},
   "outputs": [],
   "source": [
    "img_class = soup.find(\"a\", class_ = \"showimg fancybox-thumbs\")\n",
    "href = img_class[\"href\"]"
   ]
  },
  {
   "cell_type": "code",
   "execution_count": 128,
   "id": "45a5b8b3",
   "metadata": {},
   "outputs": [],
   "source": [
    "featured_image_url = (\"https://spaceimages-mars.com/\" + href)"
   ]
  },
  {
   "cell_type": "markdown",
   "id": "40e67e93",
   "metadata": {},
   "source": [
    "#### Mars Table"
   ]
  },
  {
   "cell_type": "code",
   "execution_count": 129,
   "id": "541e7461",
   "metadata": {},
   "outputs": [],
   "source": [
    "url = \"https://galaxyfacts-mars.com/\""
   ]
  },
  {
   "cell_type": "code",
   "execution_count": 130,
   "id": "3b61d87e",
   "metadata": {},
   "outputs": [],
   "source": [
    "browser.visit(url)"
   ]
  },
  {
   "cell_type": "code",
   "execution_count": 131,
   "id": "026627ad",
   "metadata": {},
   "outputs": [],
   "source": [
    "comp_table = pd.read_html(url)"
   ]
  },
  {
   "cell_type": "code",
   "execution_count": 132,
   "id": "8535fb77",
   "metadata": {},
   "outputs": [],
   "source": [
    "comp_df = comp_table[0]"
   ]
  },
  {
   "cell_type": "code",
   "execution_count": 133,
   "id": "7a330c5e",
   "metadata": {},
   "outputs": [],
   "source": [
    "comp_df.columns = comp_df.iloc[0]"
   ]
  },
  {
   "cell_type": "code",
   "execution_count": 134,
   "id": "1e0bf647",
   "metadata": {},
   "outputs": [],
   "source": [
    "renamed_df = comp_df.rename(columns = {\"Mars - Earth Comparison\": \"Description\"})"
   ]
  },
  {
   "cell_type": "code",
   "execution_count": 135,
   "id": "afb541e6",
   "metadata": {},
   "outputs": [],
   "source": [
    "clean_df = renamed_df.set_index(\"Description\")"
   ]
  },
  {
   "cell_type": "code",
   "execution_count": 136,
   "id": "8fad5abd",
   "metadata": {},
   "outputs": [],
   "source": [
    "mars_html_table = clean_df.to_html(buf = None)"
   ]
  },
  {
   "cell_type": "markdown",
   "id": "dd3078bd",
   "metadata": {},
   "source": [
    "#### Mars Hemispheres"
   ]
  },
  {
   "cell_type": "code",
   "execution_count": 167,
   "id": "22a974f5",
   "metadata": {},
   "outputs": [],
   "source": [
    "url = \"https://marshemispheres.com/\""
   ]
  },
  {
   "cell_type": "code",
   "execution_count": 168,
   "id": "5424079a",
   "metadata": {},
   "outputs": [],
   "source": [
    "browser.visit(url)"
   ]
  },
  {
   "cell_type": "code",
   "execution_count": 169,
   "id": "91a006b1",
   "metadata": {},
   "outputs": [],
   "source": [
    "html = browser.html"
   ]
  },
  {
   "cell_type": "code",
   "execution_count": 170,
   "id": "a7f283e5",
   "metadata": {},
   "outputs": [],
   "source": [
    "soup = bs(html, \"html.parser\")"
   ]
  },
  {
   "cell_type": "code",
   "execution_count": 266,
   "id": "edf66491",
   "metadata": {},
   "outputs": [],
   "source": [
    "hemisphere_links = []"
   ]
  },
  {
   "cell_type": "code",
   "execution_count": 267,
   "id": "e9f4a4a7",
   "metadata": {},
   "outputs": [],
   "source": [
    "hemispheres = soup.find_all(\"div\", class_ = \"item\")"
   ]
  },
  {
   "cell_type": "code",
   "execution_count": 268,
   "id": "6e796e4c",
   "metadata": {},
   "outputs": [],
   "source": [
    "for x in hemispheres:\n",
    "    hem_class = x.find(\"a\", class_ = \"itemLink product-item\")\n",
    "    hem_url = hem_class[\"href\"]\n",
    "    hemisphere_links.append(hem_url)"
   ]
  },
  {
   "cell_type": "code",
   "execution_count": 269,
   "id": "2575e828",
   "metadata": {},
   "outputs": [
    {
     "data": {
      "text/plain": [
       "['cerberus.html', 'schiaparelli.html', 'syrtis.html', 'valles.html']"
      ]
     },
     "execution_count": 269,
     "metadata": {},
     "output_type": "execute_result"
    }
   ],
   "source": [
    "hemisphere_links"
   ]
  },
  {
   "cell_type": "code",
   "execution_count": null,
   "id": "dfffd6d7",
   "metadata": {},
   "outputs": [],
   "source": []
  },
  {
   "cell_type": "code",
   "execution_count": null,
   "id": "7230148a",
   "metadata": {},
   "outputs": [],
   "source": [
    "browser.quit()"
   ]
  },
  {
   "cell_type": "code",
   "execution_count": null,
   "id": "79f9d5d8",
   "metadata": {},
   "outputs": [],
   "source": [
    "mars_dict = {\n",
    "    \"mars_title\": news_title,\n",
    "    \"mars_paragraph\": news_p,\n",
    "    \"mars_image\": featured_image_url,\n",
    "    \"mars_table\": mars_html_table\n",
    "}"
   ]
  },
  {
   "cell_type": "code",
   "execution_count": null,
   "id": "2c9af806",
   "metadata": {},
   "outputs": [],
   "source": [
    "mars_dict"
   ]
  },
  {
   "cell_type": "code",
   "execution_count": null,
   "id": "4debba02",
   "metadata": {},
   "outputs": [],
   "source": []
  },
  {
   "cell_type": "code",
   "execution_count": null,
   "id": "a62f44a6",
   "metadata": {},
   "outputs": [],
   "source": []
  }
 ],
 "metadata": {
  "kernelspec": {
   "display_name": "Python 3 (ipykernel)",
   "language": "python",
   "name": "python3"
  },
  "language_info": {
   "codemirror_mode": {
    "name": "ipython",
    "version": 3
   },
   "file_extension": ".py",
   "mimetype": "text/x-python",
   "name": "python",
   "nbconvert_exporter": "python",
   "pygments_lexer": "ipython3",
   "version": "3.8.13"
  }
 },
 "nbformat": 4,
 "nbformat_minor": 5
}
